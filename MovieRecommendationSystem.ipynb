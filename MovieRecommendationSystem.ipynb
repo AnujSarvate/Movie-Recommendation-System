{
  "nbformat": 4,
  "nbformat_minor": 0,
  "metadata": {
    "colab": {
      "provenance": [],
      "authorship_tag": "ABX9TyMACsjFq3M9TMkFH24WYohs",
      "include_colab_link": true
    },
    "kernelspec": {
      "name": "python3",
      "display_name": "Python 3"
    },
    "language_info": {
      "name": "python"
    }
  },
  "cells": [
    {
      "cell_type": "markdown",
      "metadata": {
        "id": "view-in-github",
        "colab_type": "text"
      },
      "source": [
        "<a href=\"https://colab.research.google.com/github/AnujSarvate/Movie-Recommendation-System/blob/main/MovieRecommendationSystem.ipynb\" target=\"_parent\"><img src=\"https://colab.research.google.com/assets/colab-badge.svg\" alt=\"Open In Colab\"/></a>"
      ]
    },
    {
      "cell_type": "markdown",
      "source": [
        "Movie Recommendation System"
      ],
      "metadata": {
        "id": "GFkVUBu-W9_u"
      }
    },
    {
      "cell_type": "code",
      "source": [
        "import numpy as np\n",
        "import pandas as pd\n",
        "import difflib\n",
        "from sklearn.feature_extraction.text import TfidfVectorizer\n",
        "from sklearn.metrics.pairwise import cosine_similarity\n",
        "\n",
        "# Load data from csv file to apandas dataframe\n",
        "data = pd.read_csv('/content/movies.csv')\n",
        "\n",
        "# Select the relevant features for recommendation\n",
        "features = ['genres','keywords','tagline','cast' ,'director']\n",
        "\n",
        "# Replace null values with null string\n",
        "for feature in features:\n",
        "  data[feature] = data[feature].fillna('')\n",
        "\n",
        "# Combine selected features\n",
        "all_features = data['genres']+' '+data['keywords']+' '+data['tagline']+' '+data['cast']+' '+data['director']\n",
        "\n",
        "# Convert test data to feature vector\n",
        "vectorizer = TfidfVectorizer()\n",
        "\n",
        "feature_vectors = vectorizer.fit_transform(all_features)\n",
        "\n",
        "# Get the similarity scores using cosine similarity\n",
        "similarity = cosine_similarity(feature_vectors)\n",
        "\n",
        "# Get movie name from user\n",
        "movie_name = input(' Enter your favourite movie name : ')\n",
        "\n",
        "# Create list with all movie names given in the dataset\n",
        "list_of_titles = data['title'].tolist()\n",
        "\n",
        "# Find the close match for the movie name given by the user\n",
        "find_match = difflib.get_close_matches(movie_name, list_of_titles)\n",
        "\n",
        "while len(find_match) == 0:\n",
        "  print(\"Could not find a match for the given movie, please try again : \")\n",
        "  movie_name = input(' Enter your favourite movie name : ')\n",
        "  find_match = difflib.get_close_matches(movie_name, list_of_titles)\n",
        "\n",
        "\n",
        "close_match = find_match[0]\n",
        "\n",
        "# Find index of movie with this title\n",
        "movie_index = data[data.title == close_match]['index'].values[0]\n",
        "\n",
        "# Get list of similar movies\n",
        "similarity_score = list(enumerate(similarity[movie_index]))\n",
        "\n",
        "# Sort movies based on similarity score\n",
        "sorted_similarities = sorted(similarity_score, key = lambda x:x[1], reverse = True)\n",
        "\n",
        "# Print name of similar movies based on index\n",
        "print(' Movies suggested for you : ')\n",
        "\n",
        "i = 1\n",
        "\n",
        "for movie in sorted_similarities:\n",
        "  index = movie[0]\n",
        "  title_from_index = data[data.index==index]['title'].values[0]\n",
        "  if (i<21):\n",
        "    print(i, ',', title_from_index)\n",
        "    i+=1"
      ],
      "metadata": {
        "id": "SU_6v9XWXCj1"
      },
      "execution_count": null,
      "outputs": []
    }
  ]
}